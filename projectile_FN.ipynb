{
 "cells": [
  {
   "cell_type": "markdown",
   "metadata": {},
   "source": [
    "# Projectile using function"
   ]
  },
  {
   "cell_type": "markdown",
   "metadata": {},
   "source": [
    "- **Maximum Height**\n",
    "\\begin{equation}\n",
    "H=\\frac{{u^2}{\\sin^2\\theta}}{2g}\n",
    "\\end{equation}\n",
    "\n",
    "- **Horizontal Range**\n",
    "\\begin{equation}\n",
    "R=\\frac{{u^2}{\\sin2\\theta}}{g}\n",
    "\\end{equation}\n",
    "\n",
    "![img][image.png](attachment:image.png)\n",
    "\n",
    "- **Time of Flight**\n",
    "\\begin{equation}\n",
    "T=\\frac{{2u}{\\sin\\theta}}{g}\n",
    "\\end{equation}"
   ]
  },
  {
   "cell_type": "code",
   "execution_count": 1,
   "metadata": {},
   "outputs": [],
   "source": [
    "import numpy as np                     # from numpy import* not required to write np\n",
    "import pandas as pd                    # from pandas import* \n",
    "import matplotlib.pyplot as plt        # from matplotlib import*\n",
    "%matplotlib inline"
   ]
  },
  {
   "cell_type": "code",
   "execution_count": 4,
   "metadata": {},
   "outputs": [],
   "source": [
    "def projectile(u,angle):\n",
    "    g =9.80                                     # acceleration due to gravity    \n",
    "    RA = u**2*(np.sin(2*np.pi*angle/180))/g     # horizontal range\n",
    "    MH = u**2*(np.sin(np.pi*angle/180)**2)/(2*g)# maximum height\n",
    "    TF = 2*u*np.sin(np.pi*angle/180)/g          # Time of flight\n",
    "    return(RA,MH,TF)"
   ]
  },
  {
   "cell_type": "code",
   "execution_count": 5,
   "metadata": {},
   "outputs": [
    {
     "data": {
      "text/plain": [
       "(141.39190265868388, 61.22448979591835, 7.069595132934192)"
      ]
     },
     "execution_count": 5,
     "metadata": {},
     "output_type": "execute_result"
    }
   ],
   "source": [
    "p = projectile(40,60)\n",
    "p"
   ]
  },
  {
   "cell_type": "code",
   "execution_count": 6,
   "metadata": {},
   "outputs": [],
   "source": [
    "Angle = []   # list of angle\n",
    "RA = []      # list of  range\n",
    "MH = []      # list of max height\n",
    "TF = []      #list of time of flight\n",
    "for i  in range(0,90+1,5):\n",
    "    p = projectile(40,i)\n",
    "    Angle.append(i)\n",
    "    RA.append(p[0])   #add element in list RA\n",
    "    MH.append(p[1])    #add element in list MH\n",
    "    TF.append(p[2])    #add element in list TF    "
   ]
  },
  {
   "cell_type": "code",
   "execution_count": 5,
   "metadata": {},
   "outputs": [],
   "source": [
    "#RA,MH,TF"
   ]
  },
  {
   "cell_type": "code",
   "execution_count": 6,
   "metadata": {},
   "outputs": [
    {
     "name": "stderr",
     "output_type": "stream",
     "text": [
      "A subdirectory or file plot already exists.\n"
     ]
    }
   ],
   "source": [
    "#mkdir plot"
   ]
  },
  {
   "cell_type": "code",
   "execution_count": 7,
   "metadata": {},
   "outputs": [
    {
     "data": {
      "image/png": "[encoded data removed]",
      "text/plain": [
       "<Figure size 720x288 with 2 Axes>"
      ]
     },
     "metadata": {
      "needs_background": "light"
     },
     "output_type": "display_data"
    }
   ],
   "source": [
    "#Multiplots/Subplots\n",
    "plt.figure(figsize=[10,4])\n",
    "plt.subplot(1,2,1)\n",
    "plt.plot(Angle,RA,'rs--' ,label='Range')\n",
    "plt.plot(Angle,MH ,'g-o', label='Max height')\n",
    "plt.xlabel('Angle(deg)')\n",
    "plt.ylabel('Distance(m)')\n",
    "plt.title('Projectile Motion')\n",
    "plt.legend()\n",
    "plt.subplot(1,2,2)\n",
    "plt.plot(Angle,TF,'k^:' ,label='Time of flight')\n",
    "plt.xlabel('Angle(deg)')\n",
    "plt.ylabel('Time(sec)')\n",
    "plt.title('Projectile Motion')\n",
    "plt.legend()\n",
    "plt.savefig('plot/projective.png')\n",
    "#plt.savefig('projective.eps')\n",
    "#plt.show()"
   ]
  },
  {
   "cell_type": "code",
   "execution_count": 8,
   "metadata": {},
   "outputs": [],
   "source": [
    "data={}    # dictionary\n",
    "data.update({\"Angle\":Angle,\"Range\":RA ,\"Max.Height\": MH,\"Time of flight\":TF})\n",
    "#data"
   ]
  },
  {
   "cell_type": "code",
   "execution_count": 9,
   "metadata": {},
   "outputs": [
    {
     "data": {
      "text/html": [
       "<div>\n",
       "<style scoped>\n",
       "    .dataframe tbody tr th:only-of-type {\n",
       "        vertical-align: middle;\n",
       "    }\n",
       "\n",
       "    .dataframe tbody tr th {\n",
       "        vertical-align: top;\n",
       "    }\n",
       "\n",
       "    .dataframe thead th {\n",
       "        text-align: right;\n",
       "    }\n",
       "</style>\n",
       "<table border=\"1\" class=\"dataframe\">\n",
       "  <thead>\n",
       "    <tr style=\"text-align: right;\">\n",
       "      <th></th>\n",
       "      <th>Angle</th>\n",
       "      <th>Range</th>\n",
       "      <th>Max.Height</th>\n",
       "      <th>Time of flight</th>\n",
       "    </tr>\n",
       "  </thead>\n",
       "  <tbody>\n",
       "    <tr>\n",
       "      <th>0</th>\n",
       "      <td>0</td>\n",
       "      <td>0.000000</td>\n",
       "      <td>0.000000</td>\n",
       "      <td>0.000000</td>\n",
       "    </tr>\n",
       "    <tr>\n",
       "      <th>1</th>\n",
       "      <td>5</td>\n",
       "      <td>28.350723</td>\n",
       "      <td>0.620092</td>\n",
       "      <td>0.711475</td>\n",
       "    </tr>\n",
       "    <tr>\n",
       "      <th>2</th>\n",
       "      <td>10</td>\n",
       "      <td>55.840023</td>\n",
       "      <td>2.461526</td>\n",
       "      <td>1.417536</td>\n",
       "    </tr>\n",
       "    <tr>\n",
       "      <th>3</th>\n",
       "      <td>15</td>\n",
       "      <td>81.632653</td>\n",
       "      <td>5.468351</td>\n",
       "      <td>2.112809</td>\n",
       "    </tr>\n",
       "    <tr>\n",
       "      <th>4</th>\n",
       "      <td>20</td>\n",
       "      <td>104.944916</td>\n",
       "      <td>9.549206</td>\n",
       "      <td>2.792001</td>\n",
       "    </tr>\n",
       "  </tbody>\n",
       "</table>\n",
       "</div>"
      ],
      "text/plain": [
       "   Angle       Range  Max.Height  Time of flight\n",
       "0      0    0.000000    0.000000        0.000000\n",
       "1      5   28.350723    0.620092        0.711475\n",
       "2     10   55.840023    2.461526        1.417536\n",
       "3     15   81.632653    5.468351        2.112809\n",
       "4     20  104.944916    9.549206        2.792001"
      ]
     },
     "execution_count": 9,
     "metadata": {},
     "output_type": "execute_result"
    }
   ],
   "source": [
    "df = pd.DataFrame(data)\n",
    "df.head()"
   ]
  },
  {
   "cell_type": "code",
   "execution_count": 10,
   "metadata": {},
   "outputs": [],
   "source": [
    "# mkdir data"
   ]
  },
  {
   "cell_type": "code",
   "execution_count": 11,
   "metadata": {},
   "outputs": [],
   "source": [
    "df.to_csv(\"data/projectile.csv\")  #save data in csv format in excel"
   ]
  },
  {
   "cell_type": "markdown",
   "metadata": {},
   "source": [
    "### Projectile in parabolic equation"
   ]
  },
  {
   "cell_type": "markdown",
   "metadata": {},
   "source": [
    "- **velocity**\n",
    "\\begin{equation}\n",
    "V=\\sqrt{U_x^2+U_y^2} \\\\\n",
    "U_x=u\\sin\\theta\\\\\n",
    "U_y= u \\sin\\theta-gt\\\\\n",
    "\\alpha = tan^{-1}\\frac{U_y}{U_x}\n",
    "\\end{equation}\n",
    "- **Displacement**\n",
    "\\begin{equation}\n",
    "x =U cos \\theta .{t}\\\\\n",
    "y = {x}  tan\\theta- (\\frac{g}{2U^2 cos^2\\theta})x^2\n",
    "\\end{equation}\n"
   ]
  },
  {
   "cell_type": "code",
   "execution_count": 19,
   "metadata": {},
   "outputs": [],
   "source": [
    "import numpy as np                     # from numpy import* not required to write np\n",
    "import pandas as pd                    # from pandas import* \n",
    "import matplotlib.pyplot as plt        # from matplotlib import*\n",
    "%matplotlib inline\n",
    "import seaborn as sns\n",
    "sns.set()\n",
    "#---thoery part---\n",
    "u=100\n",
    "g=9.8\n",
    "theta1 = 30*np.pi/180\n",
    "theta2 = 45*np.pi/180\n",
    "theta3 = 60*np.pi/180\n",
    "\n",
    "\n",
    "\n",
    "for i in np.arange(0,1,0.01): # using loop for time\n",
    "    t = i\n",
    "    ux1=u*np.sin(theta1)\n",
    "    #uy1 = u*np.sin(theta1) - g*t\n",
    "    #x1 = u*t*np.cos(theta1)\n",
    "x= np.arange(0,1500,50)    \n",
    "A1 = 2*u**2 *(np.cos(theta1))**2\n",
    "y1 = x*np.tan(theta1)-(g/A1)*x**2\n",
    "#print(y1)\n",
    "A2 = 2*u**2 *(np.cos(theta2))**2\n",
    "y2 = x*np.tan(theta2)-(g/A2)*x**2\n",
    "#print(y2)\n",
    "A3 = 2*u**2 *(np.cos(theta3))**2\n",
    "y3 = x*np.tan(theta3)-(g/A3)*x**2\n",
    "#print(y3)"
   ]
  },
  {
   "cell_type": "code",
   "execution_count": 20,
   "metadata": {},
   "outputs": [],
   "source": [
    "p={\"range30\":y1,\\\n",
    "   \"range45\":y2,\\\n",
    "   \"range60\":y3}\n",
    "#p"
   ]
  },
  {
   "cell_type": "code",
   "execution_count": 16,
   "metadata": {},
   "outputs": [
    {
     "data": {
      "text/html": [
       "<div>\n",
       "<style scoped>\n",
       "    .dataframe tbody tr th:only-of-type {\n",
       "        vertical-align: middle;\n",
       "    }\n",
       "\n",
       "    .dataframe tbody tr th {\n",
       "        vertical-align: top;\n",
       "    }\n",
       "\n",
       "    .dataframe thead th {\n",
       "        text-align: right;\n",
       "    }\n",
       "</style>\n",
       "<table border=\"1\" class=\"dataframe\">\n",
       "  <thead>\n",
       "    <tr style=\"text-align: right;\">\n",
       "      <th></th>\n",
       "      <th>range30</th>\n",
       "      <th>range45</th>\n",
       "      <th>range60</th>\n",
       "    </tr>\n",
       "  </thead>\n",
       "  <tbody>\n",
       "    <tr>\n",
       "      <th>0</th>\n",
       "      <td>0.000000</td>\n",
       "      <td>0.00</td>\n",
       "      <td>0.000000</td>\n",
       "    </tr>\n",
       "    <tr>\n",
       "      <th>1</th>\n",
       "      <td>27.234180</td>\n",
       "      <td>47.55</td>\n",
       "      <td>81.702540</td>\n",
       "    </tr>\n",
       "    <tr>\n",
       "      <th>2</th>\n",
       "      <td>51.201694</td>\n",
       "      <td>90.20</td>\n",
       "      <td>153.605081</td>\n",
       "    </tr>\n",
       "    <tr>\n",
       "      <th>3</th>\n",
       "      <td>71.902540</td>\n",
       "      <td>127.95</td>\n",
       "      <td>215.707621</td>\n",
       "    </tr>\n",
       "    <tr>\n",
       "      <th>4</th>\n",
       "      <td>89.336721</td>\n",
       "      <td>160.80</td>\n",
       "      <td>268.010162</td>\n",
       "    </tr>\n",
       "  </tbody>\n",
       "</table>\n",
       "</div>"
      ],
      "text/plain": [
       "     range30  range45     range60\n",
       "0   0.000000     0.00    0.000000\n",
       "1  27.234180    47.55   81.702540\n",
       "2  51.201694    90.20  153.605081\n",
       "3  71.902540   127.95  215.707621\n",
       "4  89.336721   160.80  268.010162"
      ]
     },
     "execution_count": 16,
     "metadata": {},
     "output_type": "execute_result"
    }
   ],
   "source": [
    "df=pd.DataFrame(p)\n",
    "df.head()"
   ]
  },
  {
   "cell_type": "code",
   "execution_count": 25,
   "metadata": {},
   "outputs": [
    {
     "data": {
      "text/plain": [
       "Text(0, 0.5, 'Height(meter)')"
      ]
     },
     "execution_count": 25,
     "metadata": {},
     "output_type": "execute_result"
    },
    {
     "data": {
      "image/png": "[encoded data removed]",
      "text/plain": [
       "<Figure size 576x432 with 1 Axes>"
      ]
     },
     "metadata": {},
     "output_type": "display_data"
    }
   ],
   "source": [
    "import matplotlib.pyplot as plt\n",
    "u=50\n",
    "g=9.8\n",
    "thetas=[30,45,60]\n",
    "fig, ax = plt.subplots(1, figsize=(8, 6))\n",
    "\n",
    "colors=[\"red\",\"blue\",\"green\"]\n",
    "marker=[\"o\",\"*\",'s']\n",
    "for i,theta in enumerate(thetas):\n",
    "    T=2*u*np.sin(np.deg2rad(theta))/g\n",
    "    t=np.arange(0,T,0.1)\n",
    "    x=u*np.cos(np.deg2rad(theta))*t\n",
    "    A = 2*u**2 *(np.cos(np.deg2rad(theta)))**2\n",
    "    y = x*np.tan(np.deg2rad(theta))-(g/A)*x**2\n",
    "    ax.plot(x, y, color=colors[i],marker=marker[i], label=\"angle:\"+str(theta))\n",
    "    ax.legend(loc=0,title=\"legend\",frameon=False)\n",
    "\n",
    "ax.set_title(\"Projectile at different angles\",fontsize=15)\n",
    "ax.set_xlabel(\"Range(meter)\")\n",
    "ax.set_ylabel(\"Height(meter)\")\n",
    "\n",
    "# plt.show()"
   ]
  },
  {
   "cell_type": "code",
   "execution_count": 34,
   "metadata": {},
   "outputs": [
    {
     "data": {
      "text/html": [
       "<div>\n",
       "<style scoped>\n",
       "    .dataframe tbody tr th:only-of-type {\n",
       "        vertical-align: middle;\n",
       "    }\n",
       "\n",
       "    .dataframe tbody tr th {\n",
       "        vertical-align: top;\n",
       "    }\n",
       "\n",
       "    .dataframe thead th {\n",
       "        text-align: right;\n",
       "    }\n",
       "</style>\n",
       "<table border=\"1\" class=\"dataframe\">\n",
       "  <thead>\n",
       "    <tr style=\"text-align: right;\">\n",
       "      <th></th>\n",
       "      <th>x1</th>\n",
       "      <th>y1</th>\n",
       "    </tr>\n",
       "  </thead>\n",
       "  <tbody>\n",
       "    <tr>\n",
       "      <th>0</th>\n",
       "      <td>0.0</td>\n",
       "      <td>0.000000</td>\n",
       "    </tr>\n",
       "    <tr>\n",
       "      <th>1</th>\n",
       "      <td>2.5</td>\n",
       "      <td>4.281127</td>\n",
       "    </tr>\n",
       "    <tr>\n",
       "      <th>2</th>\n",
       "      <td>5.0</td>\n",
       "      <td>8.464254</td>\n",
       "    </tr>\n",
       "    <tr>\n",
       "      <th>3</th>\n",
       "      <td>7.5</td>\n",
       "      <td>12.549381</td>\n",
       "    </tr>\n",
       "    <tr>\n",
       "      <th>4</th>\n",
       "      <td>10.0</td>\n",
       "      <td>16.536508</td>\n",
       "    </tr>\n",
       "    <tr>\n",
       "      <th>...</th>\n",
       "      <td>...</td>\n",
       "      <td>...</td>\n",
       "    </tr>\n",
       "    <tr>\n",
       "      <th>84</th>\n",
       "      <td>210.0</td>\n",
       "      <td>17.986670</td>\n",
       "    </tr>\n",
       "    <tr>\n",
       "      <th>85</th>\n",
       "      <td>212.5</td>\n",
       "      <td>14.035797</td>\n",
       "    </tr>\n",
       "    <tr>\n",
       "      <th>86</th>\n",
       "      <td>215.0</td>\n",
       "      <td>9.986924</td>\n",
       "    </tr>\n",
       "    <tr>\n",
       "      <th>87</th>\n",
       "      <td>217.5</td>\n",
       "      <td>5.840051</td>\n",
       "    </tr>\n",
       "    <tr>\n",
       "      <th>88</th>\n",
       "      <td>220.0</td>\n",
       "      <td>1.595178</td>\n",
       "    </tr>\n",
       "  </tbody>\n",
       "</table>\n",
       "<p>89 rows × 2 columns</p>\n",
       "</div>"
      ],
      "text/plain": [
       "       x1         y1\n",
       "0     0.0   0.000000\n",
       "1     2.5   4.281127\n",
       "2     5.0   8.464254\n",
       "3     7.5  12.549381\n",
       "4    10.0  16.536508\n",
       "..    ...        ...\n",
       "84  210.0  17.986670\n",
       "85  212.5  14.035797\n",
       "86  215.0   9.986924\n",
       "87  217.5   5.840051\n",
       "88  220.0   1.595178\n",
       "\n",
       "[89 rows x 2 columns]"
      ]
     },
     "execution_count": 34,
     "metadata": {},
     "output_type": "execute_result"
    }
   ],
   "source": [
    "P={\"x1\":x , \"y1\":y}\n",
    "dfy=pd.DataFrame(P)\n",
    "dfy"
   ]
  },
  {
   "cell_type": "code",
   "execution_count": null,
   "metadata": {},
   "outputs": [],
   "source": []
  }
 ],
 "metadata": {
  "kernelspec": {
   "display_name": "Python 3",
   "language": "python",
   "name": "python3"
  },
  "language_info": {
   "codemirror_mode": {
    "name": "ipython",
    "version": 3
   },
   "file_extension": ".py",
   "mimetype": "text/x-python",
   "name": "python",
   "nbconvert_exporter": "python",
   "pygments_lexer": "ipython3",
   "version": "3.7.6"
  }
 },
 "nbformat": 4,
 "nbformat_minor": 4
}
